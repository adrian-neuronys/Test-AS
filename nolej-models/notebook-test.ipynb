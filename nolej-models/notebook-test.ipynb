{
 "cells": [
  {
   "cell_type": "code",
   "execution_count": 1,
   "id": "fifth-breath",
   "metadata": {},
   "outputs": [],
   "source": [
    "from src.models import (Summarizer, \n",
    "                        AnswerSelector,\n",
    "                        EntityExtractor,\n",
    "                        QuestionGenerator,\n",
    "                        QuestionAnswerer, \n",
    "                        SyntaxEvaluator,\n",
    "                        Linker,\n",
    "                        Highlighter)"
   ]
  },
  {
   "cell_type": "code",
   "execution_count": 2,
   "id": "russian-gibson",
   "metadata": {},
   "outputs": [],
   "source": [
    "# TEXT TO BE ANALYZED\n",
    "text = \"\"\"CBS broadcast Super Bowl 50 in the U.S., and charged an average of $5 million for a 30-second commercial during the game.\n",
    "The Super Bowl 50 halftime show was headlined by the British rock group Coldplay with special guest performers Beyoncé and Bruno Mars, who headlined the Super Bowl XLVII and Super Bowl XLVIII halftime shows, respectively.\n",
    "It was the third-most watched U.S. broadcast ever.\"\"\""
   ]
  },
  {
   "cell_type": "markdown",
   "id": "numerous-distributor",
   "metadata": {},
   "source": [
    "# Summarization"
   ]
  },
  {
   "cell_type": "code",
   "execution_count": 3,
   "id": "posted-introduction",
   "metadata": {},
   "outputs": [
    {
     "name": "stdout",
     "output_type": "stream",
     "text": [
      "models/final/en/sumup\n"
     ]
    },
    {
     "data": {
      "text/plain": [
       "['CBS broadcast Super Bowl 50 in the U.S., charged an average of $5 million for a 30-second commercial during the game. Beyoncé and Bruno Mars were headlined by the British rock group Coldplay.']"
      ]
     },
     "execution_count": 3,
     "metadata": {},
     "output_type": "execute_result"
    }
   ],
   "source": [
    "model = Summarizer()\n",
    "model(text)"
   ]
  },
  {
   "cell_type": "markdown",
   "id": "divine-compilation",
   "metadata": {},
   "source": [
    "# AnswerSelector"
   ]
  },
  {
   "cell_type": "code",
   "execution_count": 4,
   "id": "abstract-camcorder",
   "metadata": {},
   "outputs": [
    {
     "name": "stderr",
     "output_type": "stream",
     "text": [
      "/home/rim/.local/lib/python3.8/site-packages/torch/autocast_mode.py:141: UserWarning: User provided device_type of 'cuda', but CUDA is not available. Disabling\n",
      "  warnings.warn('User provided device_type of \\'cuda\\', but CUDA is not available. Disabling')\n"
     ]
    },
    {
     "data": {
      "text/plain": [
       "[{'text': '30-second commercial', 'verification_type': 'semantic'},\n",
       " {'text': 'Super Bowl 50 halftime show', 'verification_type': 'semantic'},\n",
       " {'text': 'CBS', 'verification_type': 'orthographic'},\n",
       " {'text': 'U.S.', 'verification_type': 'orthographic'},\n",
       " {'text': '$5 million', 'verification_type': 'orthographic'},\n",
       " {'text': 'Coldplay', 'verification_type': 'orthographic'},\n",
       " {'text': 'Beyoncé', 'verification_type': 'orthographic'},\n",
       " {'text': 'Super Bowl XLVIII', 'verification_type': 'orthographic'}]"
      ]
     },
     "execution_count": 4,
     "metadata": {},
     "output_type": "execute_result"
    }
   ],
   "source": [
    "model = AnswerSelector()\n",
    "model(text)"
   ]
  },
  {
   "cell_type": "markdown",
   "id": "visible-adelaide",
   "metadata": {},
   "source": [
    "# EntityExtractor"
   ]
  },
  {
   "cell_type": "code",
   "execution_count": 5,
   "id": "uniform-province",
   "metadata": {},
   "outputs": [
    {
     "data": {
      "text/plain": [
       "[{'text': 'CBS', 'ner_label': 'ORG', 'start': 0, 'end': 3},\n",
       " {'text': '$5 million', 'ner_label': 'MONEY', 'start': 67, 'end': 77},\n",
       " {'text': '30-second', 'ner_label': 'TIME', 'start': 84, 'end': 93},\n",
       " {'text': 'British', 'ner_label': 'NORP', 'start': 175, 'end': 182},\n",
       " {'text': 'Coldplay', 'ner_label': 'ORG', 'start': 194, 'end': 202},\n",
       " {'text': 'Beyoncé', 'ner_label': 'PERSON', 'start': 233, 'end': 240},\n",
       " {'text': 'Bruno Mars', 'ner_label': 'PERSON', 'start': 245, 'end': 255},\n",
       " {'text': 'Super Bowl XLVIII', 'ner_label': 'EVENT', 'start': 296, 'end': 313},\n",
       " {'text': 'third', 'ner_label': 'ORDINAL', 'start': 355, 'end': 360}]"
      ]
     },
     "execution_count": 5,
     "metadata": {},
     "output_type": "execute_result"
    }
   ],
   "source": [
    "model = EntityExtractor()\n",
    "model(text)"
   ]
  },
  {
   "cell_type": "markdown",
   "id": "artistic-finance",
   "metadata": {},
   "source": [
    "# QuestionGenerator"
   ]
  },
  {
   "cell_type": "code",
   "execution_count": 6,
   "id": "unlimited-start",
   "metadata": {},
   "outputs": [
    {
     "name": "stdout",
     "output_type": "stream",
     "text": [
      "models/final/en/qg\n"
     ]
    }
   ],
   "source": [
    "model = QuestionGenerator()\n",
    "answers = ['$5 million', '30-second', 'third']"
   ]
  },
  {
   "cell_type": "code",
   "execution_count": 7,
   "id": "tender-phrase",
   "metadata": {},
   "outputs": [
    {
     "data": {
      "text/plain": [
       "[{'answer': '$5 million',\n",
       "  'verification_type': None,\n",
       "  'answer_start': 67,\n",
       "  'answer_end': 77,\n",
       "  'question': 'How much did CBS charge for a 30-second commercial during Super Bowl 50?',\n",
       "  'explanation': 'CBS broadcast Super Bowl 50 in the U.S., and charged an average of $5 million for a 30-second commercial during the game.',\n",
       "  'sentence_id': 0,\n",
       "  'type': 'open'},\n",
       " {'answer': '30-second',\n",
       "  'verification_type': None,\n",
       "  'answer_start': 84,\n",
       "  'answer_end': 93,\n",
       "  'question': 'How long was the commercial during Super Bowl 50?',\n",
       "  'explanation': 'CBS broadcast Super Bowl 50 in the U.S., and charged an average of $5 million for a 30-second commercial during the game.',\n",
       "  'sentence_id': 0,\n",
       "  'type': 'open'},\n",
       " {'answer': 'third',\n",
       "  'verification_type': None,\n",
       "  'answer_start': 11,\n",
       "  'answer_end': 16,\n",
       "  'question': 'What was the highest-watched U.S. broadcast ever?',\n",
       "  'explanation': 'It was the third-most watched U.S. broadcast ever.',\n",
       "  'sentence_id': 2,\n",
       "  'type': 'open'}]"
      ]
     },
     "execution_count": 7,
     "metadata": {},
     "output_type": "execute_result"
    }
   ],
   "source": [
    "model(text, answers=answers)"
   ]
  },
  {
   "cell_type": "markdown",
   "id": "rough-blogger",
   "metadata": {},
   "source": [
    "# QuestionAnswerer"
   ]
  },
  {
   "cell_type": "code",
   "execution_count": 8,
   "id": "violent-cattle",
   "metadata": {},
   "outputs": [
    {
     "name": "stderr",
     "output_type": "stream",
     "text": [
      "No model was supplied, defaulted to distilbert-base-cased-distilled-squad (https://huggingface.co/distilbert-base-cased-distilled-squad)\n"
     ]
    }
   ],
   "source": [
    "model = QuestionAnswerer()\n",
    "questions = ['How much did CBS charge for a 30-second commercial during Super Bowl 50?',\n",
    "             'How long was the commercial during Super Bowl 50?',\n",
    "             'What was the highest-watched U.S. broadcast ever?']"
   ]
  },
  {
   "cell_type": "code",
   "execution_count": 9,
   "id": "operational-minimum",
   "metadata": {},
   "outputs": [
    {
     "data": {
      "text/plain": [
       "[{'score': 0.800715982913971, 'start': 67, 'end': 77, 'answer': '$5 million'},\n",
       " {'score': 0.9657741785049438, 'start': 84, 'end': 93, 'answer': '30-second'},\n",
       " {'score': 0.21026048064231873, 'start': 355, 'end': 360, 'answer': 'third'}]"
      ]
     },
     "execution_count": 9,
     "metadata": {},
     "output_type": "execute_result"
    }
   ],
   "source": [
    "model(question=questions, context=text)"
   ]
  },
  {
   "cell_type": "markdown",
   "id": "enhanced-governor",
   "metadata": {},
   "source": [
    "# SyntaxEvaluator"
   ]
  },
  {
   "cell_type": "code",
   "execution_count": 10,
   "id": "above-wheel",
   "metadata": {},
   "outputs": [
    {
     "name": "stderr",
     "output_type": "stream",
     "text": [
      "Some weights of the model checkpoint at salesken/query_wellformedness_score were not used when initializing RobertaForSequenceClassification: ['roberta.pooler.dense.weight', 'roberta.pooler.dense.bias']\n",
      "- This IS expected if you are initializing RobertaForSequenceClassification from the checkpoint of a model trained on another task or with another architecture (e.g. initializing a BertForSequenceClassification model from a BertForPreTraining model).\n",
      "- This IS NOT expected if you are initializing RobertaForSequenceClassification from the checkpoint of a model that you expect to be exactly identical (initializing a BertForSequenceClassification model from a BertForSequenceClassification model).\n"
     ]
    }
   ],
   "source": [
    "model = SyntaxEvaluator()\n",
    "questions = ['How much did CBS charge for a 30-second commercial during Super Bowl 50?',\n",
    "             'How long was the commercial during Super Bowl 50?',\n",
    "             'What was the highest-watched U.S. broadcast ever?']"
   ]
  },
  {
   "cell_type": "code",
   "execution_count": 11,
   "id": "herbal-behavior",
   "metadata": {},
   "outputs": [
    {
     "data": {
      "text/plain": [
       "[1.0007057189941406, 0.9883835911750793, 0.9966148734092712]"
      ]
     },
     "execution_count": 11,
     "metadata": {},
     "output_type": "execute_result"
    }
   ],
   "source": [
    "model(questions)"
   ]
  },
  {
   "cell_type": "markdown",
   "id": "disabled-certification",
   "metadata": {},
   "source": [
    "# Linker"
   ]
  },
  {
   "cell_type": "code",
   "execution_count": 12,
   "id": "measured-hudson",
   "metadata": {},
   "outputs": [
    {
     "data": {
      "text/plain": [
       "{'entities': [{'entity': 'CBS',\n",
       "   'kb_id': 'Q43380',\n",
       "   'positions': [{'start': 0, 'end': 3, 'text': 'CBS'}],\n",
       "   'enable': True,\n",
       "   'relevance': 0.201,\n",
       "   'confidence': 19.61},\n",
       "  {'entity': 'Coldplay',\n",
       "   'kb_id': 'Q45188',\n",
       "   'positions': [{'start': 194, 'end': 202, 'text': 'Coldplay'}],\n",
       "   'enable': True,\n",
       "   'relevance': 0.2417,\n",
       "   'confidence': 10.72},\n",
       "  {'entity': 'Beyoncé',\n",
       "   'kb_id': 'Q36153',\n",
       "   'positions': [{'start': 233, 'end': 240, 'text': 'Beyoncé'}],\n",
       "   'enable': True,\n",
       "   'relevance': 0.2033,\n",
       "   'confidence': 16.43},\n",
       "  {'entity': 'Bruno Mars',\n",
       "   'kb_id': 'Q1450',\n",
       "   'positions': [{'start': 245, 'end': 255, 'text': 'Bruno Mars'}],\n",
       "   'enable': True,\n",
       "   'relevance': 0.3803,\n",
       "   'confidence': 20.0},\n",
       "  {'entity': 'Super Bowl XLVIII halftime show',\n",
       "   'kb_id': 'Q17026444',\n",
       "   'positions': [{'start': 296,\n",
       "     'end': 328,\n",
       "     'text': 'Super Bowl XLVIII halftime shows'}],\n",
       "   'enable': False,\n",
       "   'relevance': 0.6836,\n",
       "   'confidence': 3.878},\n",
       "  {'entity': 'Super Bowl 50',\n",
       "   'kb_id': 'Q7642193',\n",
       "   'positions': [{'start': 14, 'end': 27, 'text': 'Super Bowl 50'}],\n",
       "   'enable': True,\n",
       "   'relevance': 0.5205,\n",
       "   'confidence': 8.395}],\n",
       " 'tags': [{'text': 'super bowl', 'kb_id': 'Q32096'},\n",
       "  {'text': 'american football', 'kb_id': 'Q41323'},\n",
       "  {'text': 'sports', 'kb_id': 'Q349'}]}"
      ]
     },
     "execution_count": 12,
     "metadata": {},
     "output_type": "execute_result"
    }
   ],
   "source": [
    "model = Linker()\n",
    "model(text)"
   ]
  },
  {
   "cell_type": "markdown",
   "id": "vanilla-ocean",
   "metadata": {},
   "source": [
    "# Highlighter"
   ]
  },
  {
   "cell_type": "code",
   "execution_count": 13,
   "id": "prospective-congo",
   "metadata": {},
   "outputs": [
    {
     "data": {
      "text/plain": [
       "{'sentences': ['CBS broadcast Super Bowl 50 in the U.S., and charged an average of $5 million for a 30-second commercial during the game.',\n",
       "  'The Super Bowl 50 halftime show was headlined by the British rock group Coldplay with special guest performers Beyoncé and Bruno Mars, who headlined the Super Bowl XLVII and Super Bowl XLVIII halftime shows, respectively.',\n",
       "  'It was the third-most watched U.S. broadcast ever.'],\n",
       " 'highlight_25': [0],\n",
       " 'highlight_40': [0]}"
      ]
     },
     "execution_count": 13,
     "metadata": {},
     "output_type": "execute_result"
    }
   ],
   "source": [
    "model = Highlighter()\n",
    "model(text)"
   ]
  },
  {
   "cell_type": "code",
   "execution_count": null,
   "id": "a7bf4680-f78f-439f-a61b-03ee2c244cf4",
   "metadata": {},
   "outputs": [],
   "source": []
  }
 ],
 "metadata": {
  "kernelspec": {
   "display_name": "Python 3 (ipykernel)",
   "language": "python",
   "name": "python3"
  },
  "language_info": {
   "codemirror_mode": {
    "name": "ipython",
    "version": 3
   },
   "file_extension": ".py",
   "mimetype": "text/x-python",
   "name": "python",
   "nbconvert_exporter": "python",
   "pygments_lexer": "ipython3",
   "version": "3.8.10"
  }
 },
 "nbformat": 4,
 "nbformat_minor": 5
}
