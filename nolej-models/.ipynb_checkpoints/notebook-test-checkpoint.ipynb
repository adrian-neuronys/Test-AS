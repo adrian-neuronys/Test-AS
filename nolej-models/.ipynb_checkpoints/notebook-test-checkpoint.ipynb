{
 "cells": [
  {
   "cell_type": "code",
   "execution_count": null,
   "id": "fifth-breath",
   "metadata": {},
   "outputs": [],
   "source": [
    "from src.models import (Summarizer, \n",
    "                        AnswerSelector,\n",
    "                        EntityExtractor,\n",
    "                        QuestionGenerator,\n",
    "                        QuestionAnswerer, \n",
    "                        SyntaxEvaluator,\n",
    "                        Linker,\n",
    "                        Highlighter)"
   ]
  },
  {
   "cell_type": "code",
   "execution_count": null,
   "id": "russian-gibson",
   "metadata": {},
   "outputs": [],
   "source": [
    "# TEXT TO BE ANALYZED\n",
    "text = \"\"\"CBS broadcast Super Bowl 50 in the U.S., and charged an average of $5 million for a 30-second commercial during the game.\n",
    "The Super Bowl 50 halftime show was headlined by the British rock group Coldplay with special guest performers Beyoncé and Bruno Mars, who headlined the Super Bowl XLVII and Super Bowl XLVIII halftime shows, respectively.\n",
    "It was the third-most watched U.S. broadcast ever.\"\"\""
   ]
  },
  {
   "cell_type": "markdown",
   "id": "numerous-distributor",
   "metadata": {},
   "source": [
    "# Summarization"
   ]
  },
  {
   "cell_type": "code",
   "execution_count": null,
   "id": "posted-introduction",
   "metadata": {},
   "outputs": [],
   "source": [
    "model = Summarizer()\n",
    "model(text)"
   ]
  },
  {
   "cell_type": "markdown",
   "id": "divine-compilation",
   "metadata": {},
   "source": [
    "# AnswerSelector"
   ]
  },
  {
   "cell_type": "code",
   "execution_count": null,
   "id": "abstract-camcorder",
   "metadata": {},
   "outputs": [],
   "source": [
    "model = AnswerSelector()\n",
    "model(text)"
   ]
  },
  {
   "cell_type": "markdown",
   "id": "visible-adelaide",
   "metadata": {},
   "source": [
    "# EntityExtractor"
   ]
  },
  {
   "cell_type": "code",
   "execution_count": null,
   "id": "uniform-province",
   "metadata": {},
   "outputs": [],
   "source": [
    "model = EntityExtractor()\n",
    "model(text)"
   ]
  },
  {
   "cell_type": "markdown",
   "id": "artistic-finance",
   "metadata": {},
   "source": [
    "# QuestionGenerator"
   ]
  },
  {
   "cell_type": "code",
   "execution_count": null,
   "id": "unlimited-start",
   "metadata": {},
   "outputs": [],
   "source": [
    "model = QuestionGenerator()\n",
    "answers = ['$5 million', '30-second', 'third']"
   ]
  },
  {
   "cell_type": "code",
   "execution_count": null,
   "id": "tender-phrase",
   "metadata": {},
   "outputs": [],
   "source": [
    "model(text, answers=answers)"
   ]
  },
  {
   "cell_type": "markdown",
   "id": "rough-blogger",
   "metadata": {},
   "source": [
    "# QuestionAnswerer"
   ]
  },
  {
   "cell_type": "code",
   "execution_count": null,
   "id": "violent-cattle",
   "metadata": {},
   "outputs": [],
   "source": [
    "model = QuestionAnswerer()\n",
    "questions = ['How much did CBS charge for a 30-second commercial during Super Bowl 50?',\n",
    "             'How long was the commercial during Super Bowl 50?',\n",
    "             'What was the highest-watched U.S. broadcast ever?']"
   ]
  },
  {
   "cell_type": "code",
   "execution_count": null,
   "id": "operational-minimum",
   "metadata": {},
   "outputs": [],
   "source": [
    "model(question=questions, context=text)"
   ]
  },
  {
   "cell_type": "markdown",
   "id": "enhanced-governor",
   "metadata": {},
   "source": [
    "# SyntaxEvaluator"
   ]
  },
  {
   "cell_type": "code",
   "execution_count": null,
   "id": "above-wheel",
   "metadata": {},
   "outputs": [],
   "source": [
    "model = SyntaxEvaluator()\n",
    "questions = ['How much did CBS charge for a 30-second commercial during Super Bowl 50?',\n",
    "             'How long was the commercial during Super Bowl 50?',\n",
    "             'What was the highest-watched U.S. broadcast ever?']"
   ]
  },
  {
   "cell_type": "code",
   "execution_count": null,
   "id": "herbal-behavior",
   "metadata": {},
   "outputs": [],
   "source": [
    "model(questions)"
   ]
  },
  {
   "cell_type": "markdown",
   "id": "disabled-certification",
   "metadata": {},
   "source": [
    "# Linker"
   ]
  },
  {
   "cell_type": "code",
   "execution_count": null,
   "id": "measured-hudson",
   "metadata": {},
   "outputs": [],
   "source": [
    "model = Linker()\n",
    "model(text)"
   ]
  },
  {
   "cell_type": "markdown",
   "id": "vanilla-ocean",
   "metadata": {},
   "source": [
    "# Highlighter"
   ]
  },
  {
   "cell_type": "code",
   "execution_count": null,
   "id": "prospective-congo",
   "metadata": {},
   "outputs": [],
   "source": [
    "model = Highlighter()\n",
    "model(text)"
   ]
  }
 ],
 "metadata": {
  "kernelspec": {
   "display_name": "Python 3",
   "language": "python",
   "name": "python3"
  },
  "language_info": {
   "codemirror_mode": {
    "name": "ipython",
    "version": 3
   },
   "file_extension": ".py",
   "mimetype": "text/x-python",
   "name": "python",
   "nbconvert_exporter": "python",
   "pygments_lexer": "ipython3",
   "version": "3.8.10"
  }
 },
 "nbformat": 4,
 "nbformat_minor": 5
}
